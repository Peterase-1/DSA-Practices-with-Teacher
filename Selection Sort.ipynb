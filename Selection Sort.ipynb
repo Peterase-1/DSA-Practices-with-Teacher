{
 "cells": [
  {
   "cell_type": "markdown",
   "id": "e67c55ba",
   "metadata": {},
   "source": [
    "### Selectio Sort Algorithm"
   ]
  },
  {
   "cell_type": "code",
   "execution_count": 1,
   "id": "9cb28716",
   "metadata": {},
   "outputs": [
    {
     "name": "stdout",
     "output_type": "stream",
     "text": [
      "[9, 8, 7, 6, 5, 4, 3, 2, 1]\n"
     ]
    }
   ],
   "source": [
    "#Selection sort,
    "arr = [5,4,2,1,3,9,6,7,8]\n",
    "i = 0\n",
    "while(i<len(arr)):\n",
    "    max_index = i\n",
    "    j = i+1\n",
    "    while(j<len(arr)):\n",
    "        if (arr[j]) > arr[max_index]:\n",
    "            max_index = j\n",
    "        j+=1    \n",
    "    if max_index != i:\n",
    "            arr[i], arr[max_index] = arr[max_index],arr[i]\n",
    "    i+=1\n",
    "print(arr)"
   ]
  },
  {
   "cell_type": "code",
   "execution_count": null,
   "id": "b6e2f7f4",
   "metadata": {},
   "outputs": [],
   "source": []
  }
 ],
 "metadata": {
  "kernelspec": {
   "display_name": "Python 3",
   "language": "python",
   "name": "python3"
  },
  "language_info": {
   "codemirror_mode": {
    "name": "ipython",
    "version": 3
   },
   "file_extension": ".py",
   "mimetype": "text/x-python",
   "name": "python",
   "nbconvert_exporter": "python",
   "pygments_lexer": "ipython3",
   "version": "3.11.9"
  }
 },
 "nbformat": 4,
 "nbformat_minor": 5
}
